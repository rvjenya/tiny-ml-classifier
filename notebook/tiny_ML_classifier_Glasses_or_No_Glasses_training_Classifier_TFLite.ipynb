{
  "nbformat": 4,
  "nbformat_minor": 0,
  "metadata": {
    "accelerator": "GPU",
    "colab": {
      "name": "tiny ML classifier - Glasses or No Glasses - training Classifier - TFLite ",
      "provenance": [],
      "collapsed_sections": []
    },
    "kernelspec": {
      "display_name": "Python 3",
      "name": "python3"
    }
  },
  "cells": [
    {
      "cell_type": "markdown",
      "metadata": {
        "id": "sdmg4hwX-k7n"
      },
      "source": [
        "# rvjenya - tiny ML classifier - Glasses or No Glasses Image for TFLite"
      ]
    },
    {
      "cell_type": "markdown",
      "metadata": {
        "id": "LvH6F1McOceU"
      },
      "source": [
        "## Setup"
      ]
    },
    {
      "cell_type": "markdown",
      "metadata": {
        "id": "uWe1Y-cv-p5y"
      },
      "source": [
        "**Connect to my Google Drive**\n",
        "\n"
      ]
    },
    {
      "cell_type": "code",
      "metadata": {
        "id": "WUkJZ2F8-9Gp",
        "colab": {
          "base_uri": "https://localhost:8080/"
        },
        "outputId": "1dfaf73c-b832-4dd7-d882-0fca65eb52a2"
      },
      "source": [
        "from google.colab import drive\n",
        "drive.mount('/content/gdrive')\n",
        "#!ln -s /content/gdrive/My\\ Drive/ /mydrive\n",
        "#!ls /mydrive"
      ],
      "execution_count": 1,
      "outputs": [
        {
          "output_type": "stream",
          "name": "stdout",
          "text": [
            "Mounted at /content/gdrive\n"
          ]
        }
      ]
    },
    {
      "cell_type": "markdown",
      "metadata": {
        "id": "9Rn5nJhB_AEv"
      },
      "source": [
        "**Import lib for my working**"
      ]
    },
    {
      "cell_type": "code",
      "metadata": {
        "id": "8LbmZk1cEPQT",
        "colab": {
          "base_uri": "https://localhost:8080/"
        },
        "outputId": "b664b0ac-9e8b-48c0-b89a-7fe397ab57ee"
      },
      "source": [
        "import itertools\n",
        "import os\n",
        "\n",
        "import matplotlib.pylab as plt\n",
        "import numpy as np\n",
        "\n",
        "import tensorflow as tf\n",
        "import tensorflow_hub as hub\n",
        "\n",
        "print(\"TF version:\", tf.__version__)\n",
        "print(\"Hub version:\", hub.__version__)\n",
        "print(\"GPU is\", \"available\" if tf.test.is_gpu_available() else \"NOT AVAILABLE\")"
      ],
      "execution_count": 2,
      "outputs": [
        {
          "output_type": "stream",
          "name": "stdout",
          "text": [
            "TF version: 2.6.0\n",
            "Hub version: 0.12.0\n",
            "WARNING:tensorflow:From <ipython-input-2-0831fa394ed3>:12: is_gpu_available (from tensorflow.python.framework.test_util) is deprecated and will be removed in a future version.\n",
            "Instructions for updating:\n",
            "Use `tf.config.list_physical_devices('GPU')` instead.\n",
            "GPU is available\n"
          ]
        }
      ]
    },
    {
      "cell_type": "markdown",
      "metadata": {
        "id": "7rYBdtXpEdA2"
      },
      "source": [
        "## TF2 SavedModel module to use"
      ]
    },
    {
      "cell_type": "code",
      "metadata": {
        "id": "IxwaAzKwErDS",
        "colab": {
          "base_uri": "https://localhost:8080/"
        },
        "outputId": "d33decaf-0098-4510-d64e-76b0af309dc2"
      },
      "source": [
        "module_selection = (\"mobilenet_v2_100_224\", 224) #@param [\"(\\\"mobilenet_v2_100_224\\\", 224)\", \"(\\\"inception_v3\\\", 299)\"] {type:\"raw\", allow-input: true}\n",
        "handle_base, pixels = module_selection\n",
        "MODULE_HANDLE =\"https://tfhub.dev/google/imagenet/{}/feature_vector/4\".format(handle_base)\n",
        "IMAGE_SIZE = (pixels, pixels)\n",
        "print(\"Using {} with input size {}\".format(MODULE_HANDLE, IMAGE_SIZE))\n",
        "\n",
        "BATCH_SIZE = 32 #@param {type:\"integer\"}"
      ],
      "execution_count": 3,
      "outputs": [
        {
          "output_type": "stream",
          "name": "stdout",
          "text": [
            "Using https://tfhub.dev/google/imagenet/mobilenet_v2_100_224/feature_vector/4 with input size (224, 224)\n"
          ]
        }
      ]
    },
    {
      "cell_type": "markdown",
      "metadata": {
        "id": "1sPD4tKgEzEa"
      },
      "source": [
        "## Set up my dataset "
      ]
    },
    {
      "cell_type": "code",
      "metadata": {
        "id": "siZ6ElGbGWBO"
      },
      "source": [
        "#set variables\n",
        "data_dir = 'images' \n",
        "base_path = '/content/gdrive/MyDrive/2021/datasets'\n",
        "imagezipped = 'data.zip'\n",
        "epochs = 10"
      ],
      "execution_count": 4,
      "outputs": []
    },
    {
      "cell_type": "code",
      "metadata": {
        "id": "Dzk_yYD0Pa5a"
      },
      "source": [
        "#first of all, we need to delete any images or saved model from the previous run, if any.\n",
        "os.system(\"rm -rf {data_dir}\".format(data_dir=data_dir))\n",
        "# !rm -rf images\n",
        "!rm -rf /tmp/saved_model"
      ],
      "execution_count": 5,
      "outputs": []
    },
    {
      "cell_type": "code",
      "metadata": {
        "id": "I7TrGdFfk7Wz",
        "colab": {
          "base_uri": "https://localhost:8080/"
        },
        "outputId": "e263d01b-f233-4b82-deb4-8fff7a77f6be"
      },
      "source": [
        "#create output path if not yet existing\n",
        "os.system(\"mkdir {base_path}/output\".format(base_path=base_path))"
      ],
      "execution_count": 6,
      "outputs": [
        {
          "output_type": "execute_result",
          "data": {
            "text/plain": [
              "256"
            ]
          },
          "metadata": {},
          "execution_count": 6
        }
      ]
    },
    {
      "cell_type": "code",
      "metadata": {
        "id": "hSU8_e-xFgjj",
        "colab": {
          "base_uri": "https://localhost:8080/"
        },
        "outputId": "e1523cf8-c753-41f8-b515-41cf13b6b696"
      },
      "source": [
        "#unzipped images into session storage\n",
        "os.system(\"unzip -o {base_path}/{imagezipped}  -d .\".format(base_path=base_path,imagezipped=imagezipped))"
      ],
      "execution_count": 7,
      "outputs": [
        {
          "output_type": "execute_result",
          "data": {
            "text/plain": [
              "0"
            ]
          },
          "metadata": {},
          "execution_count": 7
        }
      ]
    },
    {
      "cell_type": "code",
      "metadata": {
        "id": "Tq_ulFN3wIwc"
      },
      "source": [
        "data_dir = '/content/data/images' "
      ],
      "execution_count": 10,
      "outputs": []
    },
    {
      "cell_type": "markdown",
      "metadata": {
        "id": "u0SIW3FsQJSW"
      },
      "source": [
        "Some augmentation dataset"
      ]
    },
    {
      "cell_type": "code",
      "metadata": {
        "id": "fWKux50SEzq-",
        "colab": {
          "base_uri": "https://localhost:8080/"
        },
        "outputId": "9c0a2313-ed13-4336-8fa7-93d3b5394350"
      },
      "source": [
        "datagen_kwargs = dict(rescale=1./255, validation_split=.20)\n",
        "dataflow_kwargs = dict(target_size=IMAGE_SIZE, batch_size=BATCH_SIZE,\n",
        "                   interpolation=\"bilinear\")\n",
        "\n",
        "valid_datagen = tf.keras.preprocessing.image.ImageDataGenerator(\n",
        "    **datagen_kwargs)\n",
        "valid_generator = valid_datagen.flow_from_directory(\n",
        "    data_dir, subset=\"validation\", shuffle=False, **dataflow_kwargs)\n",
        "\n",
        "do_data_augmentation = True #@param {type:\"boolean\"}\n",
        "if do_data_augmentation:\n",
        "  train_datagen = tf.keras.preprocessing.image.ImageDataGenerator(\n",
        "      rotation_range=40,\n",
        "      horizontal_flip=True,\n",
        "      width_shift_range=0.2, height_shift_range=0.2,\n",
        "      shear_range=0.2, zoom_range=0.2,\n",
        "      **datagen_kwargs)\n",
        "else:\n",
        "  train_datagen = valid_datagen\n",
        "train_generator = train_datagen.flow_from_directory(\n",
        "    data_dir, subset=\"training\", shuffle=True, **dataflow_kwargs)"
      ],
      "execution_count": 11,
      "outputs": [
        {
          "output_type": "stream",
          "name": "stdout",
          "text": [
            "Found 983 images belonging to 2 classes.\n",
            "Found 3937 images belonging to 2 classes.\n"
          ]
        }
      ]
    },
    {
      "cell_type": "markdown",
      "metadata": {
        "id": "Qjzl882ZStaD"
      },
      "source": [
        "## Defining the model (it just will be full .pb model)"
      ]
    },
    {
      "cell_type": "code",
      "metadata": {
        "id": "GbqyHE7XSxlP"
      },
      "source": [
        "do_fine_tuning = True #@param {type:\"boolean\"}"
      ],
      "execution_count": 12,
      "outputs": []
    },
    {
      "cell_type": "code",
      "metadata": {
        "id": "nZALT9HaS0Yy",
        "colab": {
          "base_uri": "https://localhost:8080/"
        },
        "outputId": "70edb9d4-2891-43f5-b429-a13fd52c6cdb"
      },
      "source": [
        "print(\"Building model with\", MODULE_HANDLE)\n",
        "model = tf.keras.Sequential([\n",
        "    # Explicitly define the input shape so the model can be properly\n",
        "    # loaded by the TFLiteConverter\n",
        "    tf.keras.layers.InputLayer(input_shape=IMAGE_SIZE + (3,)),\n",
        "    hub.KerasLayer(MODULE_HANDLE, trainable=do_fine_tuning),\n",
        "    tf.keras.layers.Dropout(rate=0.2),\n",
        "    tf.keras.layers.Dense(train_generator.num_classes,\n",
        "                          kernel_regularizer=tf.keras.regularizers.l2(0.0001))\n",
        "])\n",
        "model.build((None,)+IMAGE_SIZE+(3,))\n",
        "model.summary()"
      ],
      "execution_count": 13,
      "outputs": [
        {
          "output_type": "stream",
          "name": "stdout",
          "text": [
            "Building model with https://tfhub.dev/google/imagenet/mobilenet_v2_100_224/feature_vector/4\n",
            "Model: \"sequential\"\n",
            "_________________________________________________________________\n",
            "Layer (type)                 Output Shape              Param #   \n",
            "=================================================================\n",
            "keras_layer_1 (KerasLayer)   (None, 1280)              2257984   \n",
            "_________________________________________________________________\n",
            "dropout_1 (Dropout)          (None, 1280)              0         \n",
            "_________________________________________________________________\n",
            "dense (Dense)                (None, 2)                 2562      \n",
            "=================================================================\n",
            "Total params: 2,260,546\n",
            "Trainable params: 2,226,434\n",
            "Non-trainable params: 34,112\n",
            "_________________________________________________________________\n"
          ]
        }
      ]
    },
    {
      "cell_type": "markdown",
      "metadata": {
        "id": "7Xm9Xee9S25o"
      },
      "source": [
        "## And Start Training (I hope 10 epoch will be enough)"
      ]
    },
    {
      "cell_type": "code",
      "metadata": {
        "id": "YDd1nMKuS6WU",
        "colab": {
          "base_uri": "https://localhost:8080/"
        },
        "outputId": "ed27ee22-4c40-4cd6-e8fe-f971b56ecb9a"
      },
      "source": [
        "model.compile(\n",
        "  optimizer=tf.keras.optimizers.SGD(lr=0.005, momentum=0.9), \n",
        "  loss=tf.keras.losses.CategoricalCrossentropy(from_logits=True, label_smoothing=0.1),\n",
        "  metrics=['accuracy'])"
      ],
      "execution_count": 14,
      "outputs": [
        {
          "output_type": "stream",
          "name": "stderr",
          "text": [
            "/usr/local/lib/python3.7/dist-packages/keras/optimizer_v2/optimizer_v2.py:356: UserWarning: The `lr` argument is deprecated, use `learning_rate` instead.\n",
            "  \"The `lr` argument is deprecated, use `learning_rate` instead.\")\n"
          ]
        }
      ]
    },
    {
      "cell_type": "code",
      "metadata": {
        "id": "r_st-cLITBR3",
        "colab": {
          "base_uri": "https://localhost:8080/"
        },
        "outputId": "83c13552-28c4-4ed7-a758-f1610ce9a28e"
      },
      "source": [
        "steps_per_epoch = train_generator.samples // train_generator.batch_size\n",
        "validation_steps = valid_generator.samples // valid_generator.batch_size\n",
        "hist = model.fit(\n",
        "    train_generator,\n",
        "    epochs=epochs, steps_per_epoch=steps_per_epoch,\n",
        "    validation_data=valid_generator,\n",
        "    validation_steps=validation_steps).history"
      ],
      "execution_count": 15,
      "outputs": [
        {
          "output_type": "stream",
          "name": "stdout",
          "text": [
            "Epoch 1/10\n",
            "123/123 [==============================] - 200s 1s/step - loss: 0.3604 - accuracy: 0.9716 - val_loss: 0.7072 - val_accuracy: 0.8000\n",
            "Epoch 2/10\n",
            "123/123 [==============================] - 162s 1s/step - loss: 0.3115 - accuracy: 0.9944 - val_loss: 0.3797 - val_accuracy: 0.9958\n",
            "Epoch 3/10\n",
            "123/123 [==============================] - 162s 1s/step - loss: 0.2948 - accuracy: 0.9980 - val_loss: 0.2933 - val_accuracy: 1.0000\n",
            "Epoch 4/10\n",
            "123/123 [==============================] - 162s 1s/step - loss: 0.3278 - accuracy: 0.9862 - val_loss: 0.3891 - val_accuracy: 0.9781\n",
            "Epoch 5/10\n",
            "123/123 [==============================] - 163s 1s/step - loss: 0.2996 - accuracy: 0.9985 - val_loss: 0.2901 - val_accuracy: 0.9969\n",
            "Epoch 6/10\n",
            "123/123 [==============================] - 162s 1s/step - loss: 0.2950 - accuracy: 0.9980 - val_loss: 0.2906 - val_accuracy: 0.9979\n",
            "Epoch 7/10\n",
            "123/123 [==============================] - 161s 1s/step - loss: 0.2934 - accuracy: 0.9977 - val_loss: 0.2876 - val_accuracy: 1.0000\n",
            "Epoch 8/10\n",
            "123/123 [==============================] - 162s 1s/step - loss: 0.2907 - accuracy: 0.9987 - val_loss: 0.2868 - val_accuracy: 0.9979\n",
            "Epoch 9/10\n",
            "123/123 [==============================] - 162s 1s/step - loss: 0.2935 - accuracy: 0.9990 - val_loss: 0.2860 - val_accuracy: 0.9990\n",
            "Epoch 10/10\n",
            "123/123 [==============================] - 162s 1s/step - loss: 0.2905 - accuracy: 0.9987 - val_loss: 0.2867 - val_accuracy: 0.9990\n"
          ]
        }
      ]
    },
    {
      "cell_type": "markdown",
      "metadata": {
        "id": "mmtIIKO_-tzO"
      },
      "source": [
        "## Show results"
      ]
    },
    {
      "cell_type": "code",
      "metadata": {
        "id": "fpTq4x7UTDIB",
        "colab": {
          "base_uri": "https://localhost:8080/",
          "height": 566
        },
        "outputId": "0dee203e-a9e9-4d5e-b95e-ea545438a0ea"
      },
      "source": [
        "plt.figure()\n",
        "plt.ylabel(\"Loss (training and validation)\")\n",
        "plt.xlabel(\"Training Steps\")\n",
        "plt.ylim([0,2])\n",
        "plt.plot(hist[\"loss\"])\n",
        "plt.plot(hist[\"val_loss\"])\n",
        "\n",
        "plt.figure()\n",
        "plt.ylabel(\"Accuracy (training and validation)\")\n",
        "plt.xlabel(\"Training Steps\")\n",
        "plt.ylim([0,1])\n",
        "plt.plot(hist[\"accuracy\"])\n",
        "plt.plot(hist[\"val_accuracy\"])"
      ],
      "execution_count": 16,
      "outputs": [
        {
          "output_type": "execute_result",
          "data": {
            "text/plain": [
              "[<matplotlib.lines.Line2D at 0x7f309de40050>]"
            ]
          },
          "metadata": {},
          "execution_count": 16
        },
        {
          "output_type": "display_data",
          "data": {
            "image/png": "[encoded data removed]",
            "text/plain": [
              "<Figure size 432x288 with 1 Axes>"
            ]
          },
          "metadata": {
            "needs_background": "light"
          }
        },
        {
          "output_type": "display_data",
          "data": {
            "image/png": "[encoded data removed]",
            "text/plain": [
              "<Figure size 432x288 with 1 Axes>"
            ]
          },
          "metadata": {
            "needs_background": "light"
          }
        }
      ]
    },
    {
      "cell_type": "markdown",
      "metadata": {
        "id": "lUzDjZGxTHVC"
      },
      "source": [
        "Try out the model on an image from the validation data:"
      ]
    },
    {
      "cell_type": "code",
      "metadata": {
        "id": "Kp4V-4cSTIK5",
        "colab": {
          "base_uri": "https://localhost:8080/",
          "height": 282
        },
        "outputId": "c565791e-4df9-4e82-b4a1-9d41092a6106"
      },
      "source": [
        "def get_class_string_from_index(index):\n",
        "   for class_string, class_index in valid_generator.class_indices.items():\n",
        "      if class_index == index:\n",
        "         return class_string\n",
        "\n",
        "x, y = next(valid_generator)\n",
        "image = x[1, :, :, :]\n",
        "true_index = np.argmax(y[0])\n",
        "plt.imshow(image)\n",
        "plt.axis('off')\n",
        "plt.show()\n",
        "\n",
        "\n",
        "prediction_scores = model.predict(np.expand_dims(image, axis=0))\n",
        "predicted_index = np.argmax(prediction_scores)\n",
        "print(\"True label: \" + get_class_string_from_index(true_index))\n",
        "print(\"Predicted label: \" + get_class_string_from_index(predicted_index))"
      ],
      "execution_count": 35,
      "outputs": [
        {
          "output_type": "display_data",
          "data": {
            "image/png": "[encoded data removed]",
            "text/plain": [
              "<Figure size 432x288 with 1 Axes>"
            ]
          },
          "metadata": {
            "needs_background": "light"
          }
        },
        {
          "output_type": "stream",
          "name": "stdout",
          "text": [
            "True label: no_glasses\n",
            "Predicted label: no_glasses\n"
          ]
        }
      ]
    },
    {
      "cell_type": "markdown",
      "metadata": {
        "id": "0EvdiPBqTNgV"
      },
      "source": [
        "Finally, the trained model can be created as SavedModel format on  my GDrive."
      ]
    },
    {
      "cell_type": "code",
      "metadata": {
        "id": "l60HEP-4TO4h",
        "colab": {
          "base_uri": "https://localhost:8080/"
        },
        "outputId": "e35d5d6f-4a9d-4030-8975-5e262a150b85"
      },
      "source": [
        "# create saved_model in session storage\n",
        "saved_model_path = \"/content/gdrive/MyDrive/2021/datasets/output/tmp/saved_model\" \n",
        "tf.saved_model.save(model, saved_model_path)"
      ],
      "execution_count": 42,
      "outputs": [
        {
          "output_type": "stream",
          "name": "stdout",
          "text": [
            "INFO:tensorflow:Assets written to: /content/gdrive/MyDrive/2021/datasets/output/tmp/saved_model/assets\n"
          ]
        },
        {
          "output_type": "stream",
          "name": "stderr",
          "text": [
            "INFO:tensorflow:Assets written to: /content/gdrive/MyDrive/2021/datasets/output/tmp/saved_model/assets\n"
          ]
        }
      ]
    },
    {
      "cell_type": "markdown",
      "metadata": {
        "id": "572dqY9PnkWa"
      },
      "source": [
        "## Convert a SavedModel to TFLite files\n",
        "\n",
        "Create model.tflite and labels.txt. "
      ]
    },
    {
      "cell_type": "code",
      "metadata": {
        "id": "dBq99tkj1wj0",
        "colab": {
          "base_uri": "https://localhost:8080/"
        },
        "outputId": "72526259-afd6-4132-db4b-96c5a41f8b96"
      },
      "source": [
        "#@title Optimization settings\n",
        "# docs_infra: no_execute\n",
        "# TODO(b/156102192)\n",
        "optimize_lite_model = True  #@param {type:\"boolean\"}\n",
        "#@markdown Setting a value greater than zero enables quantization of neural network activations. A few dozen is already a useful amount.\n",
        "num_calibration_examples = 200  #@param {type:\"slider\", min:0, max:1000, step:1}\n",
        "representative_dataset = None\n",
        "if optimize_lite_model and num_calibration_examples:\n",
        "  # Use a bounded number of training examples without labels for calibration.\n",
        "  # TFLiteConverter expects a list of input tensors, each with batch size 1.\n",
        "  representative_dataset = lambda: itertools.islice(\n",
        "      ([image[None, ...]] for batch, _ in train_generator for image in batch),\n",
        "      num_calibration_examples)\n",
        "\n",
        "converter = tf.lite.TFLiteConverter.from_saved_model(saved_model_path)\n",
        "if optimize_lite_model:\n",
        "  converter.optimizations = [tf.lite.Optimize.DEFAULT]\n",
        "  if representative_dataset:  # This is optional, see above.\n",
        "    converter.representative_dataset = representative_dataset\n",
        "lite_model_content = converter.convert()\n",
        "\n",
        "#tflitepath = \"{base_path}/output/model.tflite\".format(base_path=base_path)\n",
        "tflitepath = \"{base_path}/output/model_num_calib200.tflite\".format(base_path=base_path)\n",
        "with open(tflitepath, \"wb\") as f:\n",
        "  f.write(lite_model_content)\n",
        "print(\"Wrote %sTFLite model of %d bytes.\" %\n",
        "      (\"optimized \" if optimize_lite_model else \"\", len(lite_model_content)))"
      ],
      "execution_count": 41,
      "outputs": [
        {
          "output_type": "stream",
          "name": "stdout",
          "text": [
            "Wrote optimized TFLite model of 2715240 bytes.\n"
          ]
        }
      ]
    },
    {
      "cell_type": "code",
      "metadata": {
        "id": "aYL6OggR44ak",
        "colab": {
          "base_uri": "https://localhost:8080/"
        },
        "outputId": "99804aa6-7ca7-4e7e-8d91-b0c78deb99cd"
      },
      "source": [
        "#create labels.txt\n",
        "labels = tuple(sorted(os.listdir(data_dir))) \n",
        "labels_output_file = \"{base_path}/output/labels.txt\".format(base_path=base_path)\n",
        "if labels_output_file:\n",
        "  with tf.io.gfile.GFile(labels_output_file, \"w\") as f:\n",
        "    f.write(\"\\n\".join(labels + (\"\",)))\n",
        "  print(\"Labels written to\", labels_output_file)"
      ],
      "execution_count": 39,
      "outputs": [
        {
          "output_type": "stream",
          "name": "stdout",
          "text": [
            "Labels written to /content/gdrive/MyDrive/2021/datasets/output/labels.txt\n"
          ]
        }
      ]
    },
    {
      "cell_type": "markdown",
      "metadata": {
        "id": "gBF2OY41_Mo3"
      },
      "source": [
        "## Go to next task --->> create infer demo and deployment to RPi"
      ]
    }
  ]
}